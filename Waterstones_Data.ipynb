{
 "cells": [
  {
   "cell_type": "code",
   "execution_count": 2,
   "metadata": {},
   "outputs": [],
   "source": [
    "# Import the Necessary Libraries\n",
    "from selenium import webdriver\n",
    "from selenium.webdriver.chrome.service import Service\n",
    "from selenium.webdriver.common.keys import Keys\n",
    "from selenium.webdriver.common.by import By\n",
    "from selenium.webdriver.support.ui import WebDriverWait\n",
    "from selenium.webdriver.support import expected_conditions as EC\n",
    "from selenium.common.exceptions import TimeoutException\n",
    "from selenium.common.exceptions import NoSuchElementException\n",
    "import time\n",
    "#from webdriver_manager.chrome import ChromeDriverManager\n",
    "\n",
    "s = Service('C:/Users/preco/Anaconda3/Library/bin/chromedriver.exe')"
   ]
  },
  {
   "cell_type": "markdown",
   "metadata": {},
   "source": [
    "Create a new csv file to save the data"
   ]
  },
  {
   "cell_type": "code",
   "execution_count": null,
   "metadata": {},
   "outputs": [],
   "source": [
    "with open('book_scraping_pagination.csv', 'w') as file:\n",
    "    file.write(\"Book_Title; Author; Price; Format \\n\") # Column names\n",
    "\n",
    "driver = webdriver.Chrome(service=s) \n",
    "driver.get('https://www.waterstones.com')\n",
    "driver.maximize_window()\n",
    "\n",
    "# Create the accept cookies click\n",
    "accept_cookies = driver.find_element(By.XPATH, '//button[@id=\"onetrust-accept-btn-handler\"]')\n",
    "try:\n",
    "    time.sleep(1)\n",
    "    accept_cookies.click() # The website has no frame. SO it clicks on  the accept cookies button directly.\n",
    "except TimeoutException: #if the driver does not find the xpath, then print No cookies found\n",
    "    print('No Cookies Found')\n",
    "\n",
    "# Let us look at books in the best sellers category\n",
    "bestsellers = driver.find_element(By.XPATH,'/html/body/div[1]/div[2]/div[3]/header[1]/a')\n",
    "bestsellers.click()\n",
    "\n",
    "## To select a value from a drop down list, try:\n",
    "#drowdown = driver.findelement(By.XPATH, ....)\n",
    "#variable=Select(dropdown)\n",
    "#variable.select_by_visible_text('value to be selected')\n",
    "\n",
    "for k in range(1,5,1): #Ctrl + [ fior indentation\n",
    "    book_titles = driver.find_elements(By.XPATH, '//div[@class=\"title-wrap\"]/a')\n",
    "    authors = driver.find_elements(By.XPATH, '//span[@class=\"author\"]/a/b')\n",
    "    prices = driver.find_elements(By.XPATH, '//span[@class=\"price\"]')\n",
    "    format = driver.find_elements(By.XPATH, '//span[@class=\"format\"]')\n",
    "    #format = driver.find_elements(By.XPATH, '/html/body/div[1]/div[2]/div[3]/div[2]/div[3]/div/div[2]/div[2]/span[3]')\n",
    "\n",
    "    ratings = driver.find_elements(By.XPATH, '//div[@class=\"star-rating\"]')\n",
    "    for rating in ratings:\n",
    "        stars = (str(len(rating.find_elements(By.XPATH, './span'))))\n",
    "\n",
    "    with open('book_scraping_pagination.csv', 'a') as file:\n",
    "        for i in range (len(book_titles)):\n",
    "            file.write( authors[i].text + \";\" + prices[i].text + \";\" + format[i].text + \"\\n\") # Column names and seperator\n",
    "        next = driver.find_element(By.XPATH, '//a[@class=\"next \"]')\n",
    "        next.click()\n",
    "\n",
    "    file.close()\n",
    "    driver.close()"
   ]
  },
  {
   "cell_type": "code",
   "execution_count": null,
   "metadata": {},
   "outputs": [],
   "source": [
    "rate = []\n",
    "ratings = driver.find_elements(By.XPATH, '//div[@class=\"star-rating\"]')\n",
    "for rating in ratings:\n",
    "    try:\n",
    "        stars=rating.find_elements(By.XPATH, './span')\n",
    "        rate.append(len(stars))\n",
    "    except NoSuchElementException:\n",
    "        rate.append('N/A')"
   ]
  },
  {
   "cell_type": "code",
   "execution_count": null,
   "metadata": {},
   "outputs": [],
   "source": [
    "print(rate)"
   ]
  },
  {
   "cell_type": "markdown",
   "metadata": {},
   "source": [
    "print(stars)"
   ]
  },
  {
   "cell_type": "code",
   "execution_count": 31,
   "metadata": {},
   "outputs": [],
   "source": []
  },
  {
   "cell_type": "code",
   "execution_count": 43,
   "metadata": {},
   "outputs": [
    {
     "name": "stdout",
     "output_type": "stream",
     "text": [
      "[5, 5, 5, 5, 5, 5, 5, 5, 5, 5, 5, 5, 5, 5, 5, 5, 5, 5, 5, 5, 5, 5, 5]\n"
     ]
    }
   ],
   "source": []
  },
  {
   "cell_type": "code",
   "execution_count": null,
   "metadata": {},
   "outputs": [],
   "source": []
  }
 ],
 "metadata": {
  "kernelspec": {
   "display_name": "Python 3.9.7 ('presh')",
   "language": "python",
   "name": "python3"
  },
  "language_info": {
   "codemirror_mode": {
    "name": "ipython",
    "version": 3
   },
   "file_extension": ".py",
   "mimetype": "text/x-python",
   "name": "python",
   "nbconvert_exporter": "python",
   "pygments_lexer": "ipython3",
   "version": "3.9.7"
  },
  "orig_nbformat": 4,
  "vscode": {
   "interpreter": {
    "hash": "fa2815679c5531b1099c20ba51474fe9611c18278d2ea95039fda6062886670f"
   }
  }
 },
 "nbformat": 4,
 "nbformat_minor": 2
}
